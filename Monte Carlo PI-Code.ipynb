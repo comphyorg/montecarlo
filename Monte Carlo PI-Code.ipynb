{
 "cells": [
  {
   "cell_type": "markdown",
   "metadata": {},
   "source": [
    "## Python Code"
   ]
  },
  {
   "cell_type": "code",
   "execution_count": 1,
   "metadata": {},
   "outputs": [
    {
     "data": {
      "application/vnd.jupyter.widget-view+json": {
       "model_id": "04f7db0268e043a3b60f9fcdd4c66fac",
       "version_major": 2,
       "version_minor": 0
      },
      "text/plain": [
       "interactive(children=(IntSlider(value=100, description='N_trail', layout=Layout(width='700px'), max=50000, ste…"
      ]
     },
     "metadata": {},
     "output_type": "display_data"
    }
   ],
   "source": [
    "import numpy as np\n",
    "from ipywidgets import*\n",
    "\n",
    "def f_calc(N_trail):\n",
    "    N_hit = 0\n",
    "    for i in range(N_trail):\n",
    "        x = np.random.random()\n",
    "        y = np.random.random()\n",
    "\n",
    "\n",
    "        if((x*x+y*y)<=1.000):\n",
    "            N_hit += 1\n",
    "\n",
    "    print(\"Hits = \",N_hit,\"Trails = \",N_trail)\n",
    "    pi = 4.*N_hit/N_trail\n",
    "    print(\"Pi = \",pi) \n",
    "    \n",
    "    \n",
    "interactive(f_calc,N_trail = IntSlider(value = 100,min = 0,max = 50000,step = 100,layout = {'width':'700px'}))    "
   ]
  },
  {
   "cell_type": "markdown",
   "metadata": {},
   "source": [
    "as we see the $\\pi$ value is very approximate, and becomes exact when we take infinite Trails.\n",
    "You can go on without hesitation to increase N_trails by just moving upper slider but in the end you will be able to understand i.e.\n",
    "\n",
    "\n",
    "\n",
    "<i> One must not stop a stochastic calculation simply because the result is just right, nor one should continue to play because the result is not close enough to what we think the answer should be !! </i> -- Werner Krauth.\n",
    "\n",
    "\n",
    "\n",
    "\n",
    "\n"
   ]
  },
  {
   "cell_type": "markdown",
   "metadata": {},
   "source": [
    "## Calculating $\\pi$\n",
    "\n",
    "As i told you earlier this is the problem based on Direct Sampling . Therefore we will not get the same result for the same value of trial . So the question comes, how should we arrive at the <b> good value </b> of $\\pi$. \n",
    "\n",
    "\n",
    "Clearly you must have guessed it, we are going to look it at as a statistical point of view i.e. you calculate $\\pi$ for large number of time (taking same numbers of trails in each time) and store them in an array , then plot the histogram. \n",
    "\n",
    "\n",
    "Because it's a random sampling you will get a cute distribution in the end and your $\\pi$ will be the mean value of that curve!!"
   ]
  },
  {
   "cell_type": "code",
   "execution_count": 2,
   "metadata": {},
   "outputs": [
    {
     "name": "stderr",
     "output_type": "stream",
     "text": [
      "100%|███████████████████████████████████████████████████████████████████████████| 10000/10000 [00:30<00:00, 322.93it/s]\n"
     ]
    },
    {
     "data": {
      "image/png": "[encoded data removed]",
      "text/plain": [
       "<Figure size 936x720 with 1 Axes>"
      ]
     },
     "metadata": {
      "needs_background": "light"
     },
     "output_type": "display_data"
    }
   ],
   "source": [
    "import numpy as np\n",
    "import matplotlib.pyplot as plt\n",
    "from tqdm import tqdm\n",
    "\n",
    "plt.figure(figsize = (13,10))\n",
    "N_iter = 10000\n",
    "N_trail = 1000\n",
    "Pi_array = []\n",
    "for i in tqdm(range(N_iter)):\n",
    "\n",
    "    N_hit = 0\n",
    "    for i in range(N_trail):\n",
    "        x = np.random.random()\n",
    "        y = np.random.random()\n",
    "\n",
    "\n",
    "        if((x*x+y*y)<=1.000):\n",
    "            N_hit += 1\n",
    "            \n",
    "\n",
    "    pi = 4.*N_hit/N_trail\n",
    "    Pi_array.append(pi)\n",
    "\n",
    "    \n",
    "    \n",
    "plt.hist(Pi_array,bins = 150)\n",
    "plt.show()"
   ]
  },
  {
   "cell_type": "markdown",
   "metadata": {},
   "source": [
    "# Exercise\n",
    "As you have seen in the upper cell we get a cute Normal distribution curve but it is <b>actually a Binomial Distribution</b>. It approaches Gaussian distribution when $N_{trail} $ tends to very large.\n",
    "\n",
    "Now let me explain what we are going to do in this exercise :\n",
    "\n",
    "<i> As we know we get a binomial distribution curve for pi values for different $N_{trail}$. you have to find the value of $\\sigma_{\\pi}$ (i.e. width of the distribution) from the sampling data and plot it vs $\\frac{1}{\\sqrt{N}}$. see whether the result agrees with the mathematical relation i.e. $$\\sigma \\sqrt{N} = 1.642 $$\n",
    "    \n",
    "    \n",
    "from the first figure  of this article we have  \n",
    "    "
   ]
  },
  {
   "cell_type": "markdown",
   "metadata": {},
   "source": [
    "\\begin{equation*}\n",
    "\\frac{N_{hits}}{N} = \\frac{\\pi}{4} \\\\\n",
    "\\end{equation*}\n",
    "\n",
    "clearly $N_{hits}$ is  a random variable here (say X)\n",
    "\n",
    "\\begin{equation*}\n",
    "<\\pi> = 4 \\frac{<X>}{N}\n",
    "\\end{equation*}\n",
    "\n",
    "which further gives \n",
    "\n",
    "\\begin{align}\n",
    "\\sigma_{\\pi}^2 = \\frac{16}{N^2}\\sigma_{x}^2\n",
    "\\end{align}\n",
    "\n",
    "\n",
    "   \n",
    "   \n",
    "   \n",
    "    \n",
    "    \n",
    "    \n",
    "    \n",
    "    "
   ]
  },
  {
   "cell_type": "markdown",
   "metadata": {},
   "source": [
    "this $\\sigma_{x}$ is what we will calculate from the code i.e. you find the variance of   $N_{hits}$ array for different value of $N_{trail}$. But before writing code i want to derive how do we get $eq(1)$ relation\n"
   ]
  },
  {
   "cell_type": "markdown",
   "metadata": {},
   "source": [
    "as i explained earlier N_hit is a random variable here and it can take only discrete values. i.e. if N_trail have been performed then $ X \\in ( 0,1,2,.....N_{trail} ) $\n",
    "\n",
    "\n",
    "and probability of getting *a hit*\n",
    "\\begin{equation*}\n",
    "P(hit) = \\pi/4\n",
    "\\end{equation*}\n",
    "\n",
    "for obtaining X hits one can obtain the following binomial distribution which is \n",
    "\n",
    "\n",
    "\\begin{equation}\\label{eq:}\n",
    "f(X) = \\binom N X \\bigg (\\frac{\\pi}{4} \\bigg )^X\\bigg (1-\\frac{\\pi}{4} \\bigg )^{N-X}\n",
    "\\end{equation}\n",
    "\n",
    "and we knwo for binomial distribution \n",
    "\\begin{equation*}\n",
    "\\sigma_{x} = N*P(hit)*[1-P(hit)]\n",
    "\\end{equation*}\n",
    "\n",
    "putting in eq.2 we get,\n",
    "$$ \\sigma_{\\pi} = \\frac{\\sqrt{\\pi(4-\\pi)}}{\\sqrt{N}}$$\n",
    "QED\n"
   ]
  },
  {
   "cell_type": "markdown",
   "metadata": {},
   "source": [
    "# Python code"
   ]
  },
  {
   "cell_type": "code",
   "execution_count": 3,
   "metadata": {},
   "outputs": [
    {
     "name": "stderr",
     "output_type": "stream",
     "text": [
      "100%|████████████████████████████████████████████████████████████████████████████████████| 5/5 [01:44<00:00, 20.93s/it]\n"
     ]
    }
   ],
   "source": [
    "import numpy as np\n",
    "import matplotlib.pyplot as plt\n",
    "from tqdm import tqdm\n",
    "\n",
    "\n",
    "\n",
    "\n",
    "NT_array= np.arange(100,5001,1000)\n",
    "Sigma_array = []\n",
    "\n",
    "N_hit_variance = []\n",
    "niter = int(len(NT_array))\n",
    "N_sample = 4000 ## number of times we will calculate N_hit for the same value of N_tail\n",
    "for i in tqdm(range(niter)):\n",
    "    N_tail = NT_array[i]\n",
    "    \n",
    "    N_hit_array = []\n",
    "         \n",
    "    for j in range(N_sample):\n",
    "        N_hit = 0\n",
    "        \n",
    "        for k in range(N_tail):\n",
    "            \n",
    "            x = np.random.random()\n",
    "            y = np.random.random()\n",
    "\n",
    "\n",
    "            if((x*x+y*y)<=1.0):\n",
    "                \n",
    "                N_hit += 1\n",
    "        N_hit_array.append(N_hit)\n",
    "\n",
    "    var = np.var(N_hit_array)\n",
    "    N_hit_variance.append(var)\n",
    "    \n",
    "    \n",
    "            \n",
    "\n",
    "            \n",
    "        \n",
    "    "
   ]
  },
  {
   "cell_type": "markdown",
   "metadata": {},
   "source": [
    "## Plotting Graphs"
   ]
  },
  {
   "cell_type": "code",
   "execution_count": 5,
   "metadata": {},
   "outputs": [
    {
     "data": {
      "image/png": "[encoded data removed]",
      "text/plain": [
       "<Figure size 1080x720 with 1 Axes>"
      ]
     },
     "metadata": {
      "needs_background": "light"
     },
     "output_type": "display_data"
    }
   ],
   "source": [
    "plt.figure(figsize =(15,10))\n",
    "## COmputational \n",
    "Y = 1.0/(np.sqrt(NT_array))\n",
    "X1 = (4.0/(NT_array))*np.sqrt(N_hit_variance)\n",
    "plt.plot(Y,X1,'k',label = \"Computational\")\n",
    "\n",
    "### Theory \n",
    "\n",
    "X2 = Y*np.sqrt(np.pi*(4.0-np.pi))\n",
    "plt.plot(Y,X2,'g',label = \"Theory\")\n",
    "\n",
    "plt.xlabel(r'$\\frac{1}{\\sqrt{N}}$')\n",
    "plt.ylabel(r'$\\sigma$')\n",
    "plt.legend()\n",
    "plt.show()"
   ]
  },
  {
   "cell_type": "markdown",
   "metadata": {},
   "source": [
    "## Finding slope with SCIPY "
   ]
  },
  {
   "cell_type": "code",
   "execution_count": 6,
   "metadata": {},
   "outputs": [
    {
     "name": "stdout",
     "output_type": "stream",
     "text": [
      "slope =   1.6439530497843764\n"
     ]
    }
   ],
   "source": [
    "from scipy.optimize import curve_fit\n",
    "\n",
    "def func(x, a):\n",
    "    return a*x\n",
    "\n",
    "popt, pcov = curve_fit(func,Y,X1)\n",
    "print(\"slope =  \",popt[0])"
   ]
  },
  {
   "cell_type": "markdown",
   "metadata": {},
   "source": [
    "# $VOILA !!!$"
   ]
  }
 ],
 "metadata": {
  "kernelspec": {
   "display_name": "Python 3",
   "language": "python",
   "name": "python3"
  },
  "language_info": {
   "codemirror_mode": {
    "name": "ipython",
    "version": 3
   },
   "file_extension": ".py",
   "mimetype": "text/x-python",
   "name": "python",
   "nbconvert_exporter": "python",
   "pygments_lexer": "ipython3",
   "version": "3.8.3"
  },
  "latex_envs": {
   "LaTeX_envs_menu_present": true,
   "autoclose": false,
   "autocomplete": false,
   "bibliofile": "biblio.bib",
   "cite_by": "apalike",
   "current_citInitial": 1,
   "eqLabelWithNumbers": true,
   "eqNumInitial": 1,
   "hotkeys": {
    "equation": "Ctrl-E",
    "itemize": "Ctrl-I"
   },
   "labels_anchors": false,
   "latex_user_defs": false,
   "report_style_numbering": false,
   "user_envs_cfg": false
  },
  "widgets": {
   "application/vnd.jupyter.widget-state+json": {
    "state": {
     "011eb9c0fc0147a3bb041d690e817f8f": {
      "model_module": "@jupyter-widgets/base",
      "model_module_version": "1.2.0",
      "model_name": "LayoutModel",
      "state": {}
     },
     "04f7db0268e043a3b60f9fcdd4c66fac": {
      "model_module": "@jupyter-widgets/controls",
      "model_module_version": "1.5.0",
      "model_name": "VBoxModel",
      "state": {
       "_dom_classes": [
        "widget-interact"
       ],
       "children": [
        "IPY_MODEL_12c4981c606740e9b38ca14100ad44ca",
        "IPY_MODEL_47fa864e85b5492da0ae9dcb89162036"
       ],
       "layout": "IPY_MODEL_16141e588d57496b9196e40ad129abc4"
      }
     },
     "0afd827c3495446eaf696f03fbf95189": {
      "model_module": "@jupyter-widgets/controls",
      "model_module_version": "1.5.0",
      "model_name": "SliderStyleModel",
      "state": {
       "description_width": ""
      }
     },
     "12c4981c606740e9b38ca14100ad44ca": {
      "model_module": "@jupyter-widgets/controls",
      "model_module_version": "1.5.0",
      "model_name": "IntSliderModel",
      "state": {
       "description": "N_trail",
       "layout": "IPY_MODEL_b99e9b55c58246c79d29c8885397e55c",
       "max": 50000,
       "step": 100,
       "style": "IPY_MODEL_d020bb59f06544c885306683ba035bcb",
       "value": 100
      }
     },
     "16141e588d57496b9196e40ad129abc4": {
      "model_module": "@jupyter-widgets/base",
      "model_module_version": "1.2.0",
      "model_name": "LayoutModel",
      "state": {}
     },
     "1c78143ad4e2439b8fc0b15d0e7d4ec6": {
      "model_module": "@jupyter-widgets/controls",
      "model_module_version": "1.5.0",
      "model_name": "VBoxModel",
      "state": {
       "_dom_classes": [
        "widget-interact"
       ],
       "children": [
        "IPY_MODEL_eecb9ae9cf324627b1fdf91a3a0b9b8f",
        "IPY_MODEL_741439e569d6441693867166249ff08c"
       ],
       "layout": "IPY_MODEL_011eb9c0fc0147a3bb041d690e817f8f"
      }
     },
     "2cbe51d06d6141e9bf20181416830fca": {
      "model_module": "@jupyter-widgets/base",
      "model_module_version": "1.2.0",
      "model_name": "LayoutModel",
      "state": {
       "width": "700px"
      }
     },
     "47fa864e85b5492da0ae9dcb89162036": {
      "model_module": "@jupyter-widgets/output",
      "model_module_version": "1.0.0",
      "model_name": "OutputModel",
      "state": {
       "layout": "IPY_MODEL_b42188da804941c9a62d5444d9de80e9",
       "outputs": [
        {
         "name": "stdout",
         "output_type": "stream",
         "text": "Hits =  78 Trails =  100\nPi =  3.12\n"
        }
       ]
      }
     },
     "5aa70dff71e1424a9612bac6f9f07dce": {
      "model_module": "@jupyter-widgets/base",
      "model_module_version": "1.2.0",
      "model_name": "LayoutModel",
      "state": {}
     },
     "741439e569d6441693867166249ff08c": {
      "model_module": "@jupyter-widgets/output",
      "model_module_version": "1.0.0",
      "model_name": "OutputModel",
      "state": {
       "layout": "IPY_MODEL_5aa70dff71e1424a9612bac6f9f07dce",
       "outputs": [
        {
         "name": "stdout",
         "output_type": "stream",
         "text": "Hits =  21496 Trails =  27300\nPi =  3.1495970695970694\n"
        }
       ]
      }
     },
     "b42188da804941c9a62d5444d9de80e9": {
      "model_module": "@jupyter-widgets/base",
      "model_module_version": "1.2.0",
      "model_name": "LayoutModel",
      "state": {}
     },
     "b99e9b55c58246c79d29c8885397e55c": {
      "model_module": "@jupyter-widgets/base",
      "model_module_version": "1.2.0",
      "model_name": "LayoutModel",
      "state": {
       "width": "700px"
      }
     },
     "d020bb59f06544c885306683ba035bcb": {
      "model_module": "@jupyter-widgets/controls",
      "model_module_version": "1.5.0",
      "model_name": "SliderStyleModel",
      "state": {
       "description_width": ""
      }
     },
     "eecb9ae9cf324627b1fdf91a3a0b9b8f": {
      "model_module": "@jupyter-widgets/controls",
      "model_module_version": "1.5.0",
      "model_name": "IntSliderModel",
      "state": {
       "description": "N_trail",
       "layout": "IPY_MODEL_2cbe51d06d6141e9bf20181416830fca",
       "max": 50000,
       "step": 100,
       "style": "IPY_MODEL_0afd827c3495446eaf696f03fbf95189",
       "value": 17400
      }
     }
    },
    "version_major": 2,
    "version_minor": 0
   }
  }
 },
 "nbformat": 4,
 "nbformat_minor": 4
}
