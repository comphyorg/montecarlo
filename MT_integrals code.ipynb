{
 "cells": [
  {
   "cell_type": "markdown",
   "metadata": {},
   "source": [
    "Problem 1: Lets find \n",
    "\n",
    "$$ \\int_1^2  ln(x) dx $$\n",
    "\n",
    "\n",
    "### <center><u> Python Code<u></center>\n",
    "\n",
    "i will take $y_0 = 1$\n"
   ]
  },
  {
   "cell_type": "code",
   "execution_count": 1,
   "metadata": {},
   "outputs": [
    {
     "name": "stdout",
     "output_type": "stream",
     "text": [
      "Integral Value =  0.3871\n"
     ]
    }
   ],
   "source": [
    "import numpy as np ## Importing Libraries\n",
    "\n",
    "def f(x): ## Defining integrand\n",
    "    return np.log(x)\n",
    "\n",
    "y0 = 1;a = 1;b = 2\n",
    "N_trail = 10000\n",
    "N_hit = 0\n",
    "for i in range(N_trail):\n",
    "    x = np.random.uniform(low = a,high = b)   ## Generating random numbers between the given limit\n",
    "    y = np.random.uniform(low = 0,high = y0)\n",
    "\n",
    "    if(y<f(x)): ## condition for calculating n_hits\n",
    "        N_hit += 1\n",
    "Y_est = (y0*(b-a)*N_hit)/N_trail ## integral value\n",
    "print(\"Integral Value = \", Y_est)\n",
    "    \n",
    "\n",
    "\n"
   ]
  },
  {
   "cell_type": "markdown",
   "metadata": {},
   "source": [
    "Problem 2 ->Find The Volume inside a plane $x+y+z = 2$ in the first quadrant i.e. $$ \\int_{x=0}^2\\int_{y=0}^{2-x} (2-x-y)dxdy $$\n",
    "\n"
   ]
  },
  {
   "cell_type": "markdown",
   "metadata": {},
   "source": [
    "I will inscribe this plane by a cube of length 2.2(seeing the upper limit) then i will generate 3 random numbers simultaneously i.e. $x_0,  y_0 , z_0$ and will see whether $z0$ lies below the plane or not\n",
    "\n",
    "    \n",
    "### <center><u> Python Code<u></center>"
   ]
  },
  {
   "cell_type": "code",
   "execution_count": 2,
   "metadata": {},
   "outputs": [
    {
     "name": "stdout",
     "output_type": "stream",
     "text": [
      "Integral Value =  1.3216830000000004\n"
     ]
    }
   ],
   "source": [
    "import numpy as np ## Importing Libraries\n",
    "\n",
    "def Z(x,y): ## Defining integrand which is a function of two variables\n",
    "    return 2-x-y;\n",
    "\n",
    "cube_side = 2.2\n",
    "volume = cube_side**3 \n",
    "N_trail = 40000\n",
    "\n",
    "N_hit = 0\n",
    "for i in range(N_trail):\n",
    "    x = np.random.uniform(low = 0,high = cube_side)\n",
    "    y = np.random.uniform(low = 0,high = cube_side)\n",
    "    z = np.random.uniform(low = 0,high = cube_side)\n",
    "    if(z<Z(x,y)): ## condition for calculating n_hits\n",
    "        N_hit += 1\n",
    "Y_est = (volume*N_hit)/N_trail ## integral value\n",
    "print(\"Integral Value = \", Y_est)\n",
    "    \n",
    "\n",
    "\n"
   ]
  },
  {
   "cell_type": "markdown",
   "metadata": {},
   "source": [
    "Clearly we see we don't get the same result every time so we take large number of data and take it's average for example  below i have plotted the histogram of the integral value that is obtained for same N_trail for N_iter times "
   ]
  },
  {
   "cell_type": "code",
   "execution_count": 7,
   "metadata": {},
   "outputs": [
    {
     "name": "stderr",
     "output_type": "stream",
     "text": [
      "100%|██████████████████████████████████████████████████████████████████████████████| 2000/2000 [01:10<00:00, 28.50it/s]\n"
     ]
    }
   ],
   "source": [
    "import numpy as np\n",
    "import matplotlib.pyplot as plt\n",
    "from tqdm import tqdm\n",
    "\n",
    "\n",
    "def Z(x,y):\n",
    "    return 2-x-y\n",
    "\n",
    "cube_side = 2.2\n",
    "volume = cube_side**3\n",
    "\n",
    "N_trail = 2000\n",
    "N_iter = 2000\n",
    "\n",
    "S = []\n",
    "\n",
    "for i in tqdm(range(N_iter)):\n",
    "    N_hit = 0\n",
    "    for i in range(N_trail):\n",
    "        x = np.random.uniform(low = 0,high = cube_side)\n",
    "        y = np.random.uniform(low = 0,high = cube_side)\n",
    "        z = np.random.uniform(low = 0,high = cube_side)\n",
    "\n",
    "        if(z<Z(x,y)):\n",
    "            N_hit += 1\n",
    "    I_est = (volume*N_hit)/(N_trail)\n",
    "    S.append(I_est)\n",
    "S = np.array(S)"
   ]
  },
  {
   "cell_type": "code",
   "execution_count": 11,
   "metadata": {},
   "outputs": [
    {
     "data": {
      "image/png": "[encoded data removed]",
      "text/plain": [
       "<Figure size 864x720 with 1 Axes>"
      ]
     },
     "metadata": {
      "needs_background": "light"
     },
     "output_type": "display_data"
    },
    {
     "name": "stdout",
     "output_type": "stream",
     "text": [
      " Integral Mean 1.3339308620000006\n"
     ]
    }
   ],
   "source": [
    "plt.figure(figsize = (12,10))\n",
    "plt.hist(S,bins = 15)\n",
    "plt.show()\n",
    "print(\" Integral Mean\",np.mean(S))"
   ]
  },
  {
   "cell_type": "markdown",
   "metadata": {},
   "source": [
    "as we can see  this estimate of integral becomes precise as  $N\\rightarrow \\infty$ and will eventually\n",
    "converge to the correct answer. This technique is an example of a ‘simple sampling’ Monte Carlo method!\n",
    "\n",
    "but one important thing again i want to mention\n",
    "\n",
    "<i> One must not stop a stochastic calculation simply because the result is just right, nor one should continue to play because the result is not close enough to what we think the answer should be !! </i> -- Werner Krauth.\n"
   ]
  },
  {
   "cell_type": "markdown",
   "metadata": {},
   "source": [
    "------------------------------------------------------\n",
    "#### Problem 3.\n",
    "Now you will get a real taste of Monte Carlo integration techniques . Cuz we are going to find out the volume of *n dimensional unit sphere* and verify the formula $$ V_n(R) = \\frac{\\pi^{\\frac{N}{2}}R^N}{\\Gamma(\\frac{N}{2} +1)} $$\n",
    "\n",
    "\n",
    "\n"
   ]
  },
  {
   "cell_type": "markdown",
   "metadata": {},
   "source": [
    "### Solution \n",
    "So heres the procedure\n",
    "\n",
    "1. consider a 2D case for example in which we can easily inscribe this circle (radius R) within a square of side $2R$ and can calculate the volume(area for 2D) using Monte Carlo integration technique by taking average over large values\n",
    "2. Do it for N ranging from 1 to 30 (say)\n",
    "3. plot both graphs($V \\  \\ vs \\ \\  N$) analytical as well that obtained from Mote Carlo\n",
    "\n",
    "### <center> Python Code </center>\n",
    "\n",
    "\n",
    "before going into solution i will calculate the volume of a sphere and then we will generalize it for N dimensional\n",
    "\n",
    "\n",
    "Now as we know sphere(Radius R) can be inscribed within the cube of side (2R)  so we  will generate 3 Random numbers simultaneously within $-2R$ to $2R$ i.e. x,y,z coordinate and if $x^2+y^2 +z^2 <1$ then append N_hit by one else not.do it for many N_trail and calculate N_hit and volume will be $$ V_3 =8\\frac{N_{hits}}{N_{trail}}$$\n",
    "because R = 1"
   ]
  },
  {
   "cell_type": "code",
   "execution_count": 14,
   "metadata": {},
   "outputs": [
    {
     "name": "stderr",
     "output_type": "stream",
     "text": [
      "100%|████████████████████████████████████████████████████████████████████████████████| 700/700 [01:31<00:00,  7.63it/s]"
     ]
    },
    {
     "name": "stdout",
     "output_type": "stream",
     "text": [
      "Estimated Volume of a unit sphere  4.188923428571429\n"
     ]
    },
    {
     "name": "stderr",
     "output_type": "stream",
     "text": [
      "\n"
     ]
    }
   ],
   "source": [
    "import numpy as np\n",
    "from tqdm import tqdm\n",
    "\n",
    "N_trail = 5000\n",
    "\n",
    "N_iter = 700\n",
    "R = 1\n",
    "cube_side = 2*R\n",
    "cube_volume = cube_side**3\n",
    "Volume_array= []\n",
    "\n",
    "for i in tqdm(range(N_iter)):\n",
    "    N_hit = 0\n",
    "    for i in range(N_trail):\n",
    "        X = np.random.uniform(low = -1*R,high = 1*R,size = 3) # it generates 3 random numbers i..e. array of 3 \n",
    "        \n",
    "        if(np.sum(X*X)<1):  ## np.sum(X*X) This is basically x**2+y**2+z**2\n",
    "            N_hit += 1\n",
    "    I_est = (cube_volume*N_hit)/(N_trail)\n",
    "    Volume_array.append(I_est)\n",
    "Volume_array = np.array(Volume_array)\n",
    "V_3 = np.mean(Volume_array)\n",
    "\n",
    "print(\"Estimated Volume of a unit sphere \",V_3)"
   ]
  },
  {
   "cell_type": "markdown",
   "metadata": {},
   "source": [
    "## Clearly it works so we can do our final calculation now!!"
   ]
  },
  {
   "cell_type": "code",
   "execution_count": 26,
   "metadata": {},
   "outputs": [
    {
     "name": "stderr",
     "output_type": "stream",
     "text": [
      "100%|██████████████████████████████████████████████████████████████████████████████████| 19/19 [06:04<00:00, 19.18s/it]\n"
     ]
    }
   ],
   "source": [
    "import numpy as np\n",
    "from tqdm import tqdm\n",
    "\n",
    "N_trail = 5000\n",
    "N = np.arange(1,20,1)\n",
    "\n",
    "N_iter = 150\n",
    "R = 1\n",
    "cube_side = 2*R\n",
    "volume_arr = []\n",
    "\n",
    "for j in tqdm(range(int(len(N)))): ### Loopping over each N\n",
    "    n = N[j]     #dimension\n",
    "    cube_volume = cube_side**n\n",
    "    Volume= [] ## this will have volume obtained from MC methods .we will take it's mean in the end\n",
    "\n",
    "    for i in range(N_iter):  ##we calculate volume for a given n N_iter times and take average\n",
    "        N_hit = 0\n",
    "        for i in range(N_trail): ## Counting Hits\n",
    "            X = np.random.uniform(low = -1*R,high = 1*R,size = n) # it generates n random numbers i..e. array of 3 \n",
    "            if(np.sum(X*X)<1):  ## np.sum(X*X) This is basically x**2+y**2+z**2+ ... +x**n \n",
    "                N_hit += 1\n",
    "        I_est = (cube_volume*N_hit)/(N_trail) ##this is V(N)\n",
    "        Volume.append(I_est) ##storing volume\n",
    "        \n",
    "    Volume = np.array(Volume) \n",
    "    \n",
    "    V_3 = np.mean(Volume) ## Taking average and storing them in array\n",
    "    volume_arr.append(V_3)\n",
    "    \n",
    "\n",
    "    \n",
    "    "
   ]
  },
  {
   "cell_type": "code",
   "execution_count": 27,
   "metadata": {},
   "outputs": [
    {
     "data": {
      "image/png": "[encoded data removed]",
      "text/plain": [
       "<Figure size 864x720 with 1 Axes>"
      ]
     },
     "metadata": {
      "needs_background": "light"
     },
     "output_type": "display_data"
    }
   ],
   "source": [
    "## Plotting data\n",
    "from scipy.special import gamma, factorial ##importing Libraries for Gamma Function\n",
    "V_th = np.pi**(N/2)/(gamma(N/2+1))  ## V(N) (analytic curve)\n",
    "plt.figure(figsize = (12,10))\n",
    "plt.plot(N,V_th,label = \"Theoretical\")\n",
    "plt.scatter(N,volume_arr,color= 'k',label = \"Computational\")\n",
    "plt.ylabel(r'$V(N)$')\n",
    "plt.xlabel(r'$N$')\n",
    "plt.legend()\n",
    "plt.show()"
   ]
  },
  {
   "cell_type": "markdown",
   "metadata": {},
   "source": [
    "# $VOILA!!!$"
   ]
  }
 ],
 "metadata": {
  "kernelspec": {
   "display_name": "Python 3",
   "language": "python",
   "name": "python3"
  },
  "language_info": {
   "codemirror_mode": {
    "name": "ipython",
    "version": 3
   },
   "file_extension": ".py",
   "mimetype": "text/x-python",
   "name": "python",
   "nbconvert_exporter": "python",
   "pygments_lexer": "ipython3",
   "version": "3.8.3"
  },
  "latex_envs": {
   "LaTeX_envs_menu_present": true,
   "autoclose": false,
   "autocomplete": false,
   "bibliofile": "biblio.bib",
   "cite_by": "apalike",
   "current_citInitial": 1,
   "eqLabelWithNumbers": true,
   "eqNumInitial": 1,
   "hotkeys": {
    "equation": "Ctrl-E",
    "itemize": "Ctrl-I"
   },
   "labels_anchors": false,
   "latex_user_defs": false,
   "report_style_numbering": false,
   "user_envs_cfg": false
  },
  "widgets": {
   "application/vnd.jupyter.widget-state+json": {
    "state": {
     "2cfbb319396146b88d8cccea2c646e5d": {
      "model_module": "@jupyter-widgets/base",
      "model_module_version": "1.2.0",
      "model_name": "LayoutModel",
      "state": {}
     },
     "3ea51df62e5a4c8e9af3cca9832b9202": {
      "model_module": "@jupyter-widgets/controls",
      "model_module_version": "1.5.0",
      "model_name": "VBoxModel",
      "state": {
       "_dom_classes": [
        "widget-interact"
       ],
       "children": [
        "IPY_MODEL_837a2c7775ed4e8dba0cf237d9cb39c0",
        "IPY_MODEL_f8050846f2434722a46b88903591dcd9"
       ],
       "layout": "IPY_MODEL_2cfbb319396146b88d8cccea2c646e5d"
      }
     },
     "426338d2330145148a171ca1a101d115": {
      "model_module": "@jupyter-widgets/controls",
      "model_module_version": "1.5.0",
      "model_name": "IntSliderModel",
      "state": {
       "description": "N_trail",
       "layout": "IPY_MODEL_c857d5b856574eb7abc94c15a40eb490",
       "max": 100000,
       "min": 100,
       "step": 100,
       "style": "IPY_MODEL_f11d640d49fd4af0868ba05c56808cc1",
       "value": 3600
      }
     },
     "51ce3020f0884d7bb7c24d1358d53653": {
      "model_module": "@jupyter-widgets/base",
      "model_module_version": "1.2.0",
      "model_name": "LayoutModel",
      "state": {}
     },
     "5cda3ab5bbda4d59a098ceb2a3bbc63e": {
      "model_module": "@jupyter-widgets/base",
      "model_module_version": "1.2.0",
      "model_name": "LayoutModel",
      "state": {}
     },
     "66f395316e0a4a6a96ce47fb887400d4": {
      "model_module": "@jupyter-widgets/base",
      "model_module_version": "1.2.0",
      "model_name": "LayoutModel",
      "state": {}
     },
     "837a2c7775ed4e8dba0cf237d9cb39c0": {
      "model_module": "@jupyter-widgets/controls",
      "model_module_version": "1.5.0",
      "model_name": "IntSliderModel",
      "state": {
       "description": "N_trail",
       "layout": "IPY_MODEL_5cda3ab5bbda4d59a098ceb2a3bbc63e",
       "max": 100000,
       "min": 100,
       "step": 100,
       "style": "IPY_MODEL_d2404e10291848479231ff47a2f539f7",
       "value": 3600
      }
     },
     "9dde32da0d6841a286bee0e133da5d3b": {
      "model_module": "@jupyter-widgets/base",
      "model_module_version": "1.2.0",
      "model_name": "LayoutModel",
      "state": {}
     },
     "c857d5b856574eb7abc94c15a40eb490": {
      "model_module": "@jupyter-widgets/base",
      "model_module_version": "1.2.0",
      "model_name": "LayoutModel",
      "state": {}
     },
     "d2404e10291848479231ff47a2f539f7": {
      "model_module": "@jupyter-widgets/controls",
      "model_module_version": "1.5.0",
      "model_name": "SliderStyleModel",
      "state": {
       "description_width": ""
      }
     },
     "f11d640d49fd4af0868ba05c56808cc1": {
      "model_module": "@jupyter-widgets/controls",
      "model_module_version": "1.5.0",
      "model_name": "SliderStyleModel",
      "state": {
       "description_width": ""
      }
     },
     "f39f14fb8f1c42efbff7f21ffde6f56f": {
      "model_module": "@jupyter-widgets/controls",
      "model_module_version": "1.5.0",
      "model_name": "VBoxModel",
      "state": {
       "_dom_classes": [
        "widget-interact"
       ],
       "children": [
        "IPY_MODEL_426338d2330145148a171ca1a101d115",
        "IPY_MODEL_f6e6f27f581147f9ab518d16aaf0a2b1"
       ],
       "layout": "IPY_MODEL_51ce3020f0884d7bb7c24d1358d53653"
      }
     },
     "f6e6f27f581147f9ab518d16aaf0a2b1": {
      "model_module": "@jupyter-widgets/output",
      "model_module_version": "1.0.0",
      "model_name": "OutputModel",
      "state": {
       "layout": "IPY_MODEL_9dde32da0d6841a286bee0e133da5d3b",
       "outputs": [
        {
         "name": "stdout",
         "output_type": "stream",
         "text": "0.4041666666666667\n"
        }
       ]
      }
     },
     "f8050846f2434722a46b88903591dcd9": {
      "model_module": "@jupyter-widgets/output",
      "model_module_version": "1.0.0",
      "model_name": "OutputModel",
      "state": {
       "layout": "IPY_MODEL_66f395316e0a4a6a96ce47fb887400d4",
       "outputs": [
        {
         "name": "stdout",
         "output_type": "stream",
         "text": "0.39166666666666666\n"
        }
       ]
      }
     }
    },
    "version_major": 2,
    "version_minor": 0
   }
  }
 },
 "nbformat": 4,
 "nbformat_minor": 4
}
